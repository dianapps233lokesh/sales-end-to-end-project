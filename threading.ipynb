{
 "cells": [
  {
   "cell_type": "code",
   "execution_count": 18,
   "id": "79125035",
   "metadata": {},
   "outputs": [],
   "source": [
    "import time\n",
    "import requests"
   ]
  },
  {
   "cell_type": "code",
   "execution_count": 4,
   "id": "4f0cc3ce",
   "metadata": {},
   "outputs": [
    {
     "name": "stdout",
     "output_type": "stream",
     "text": [
      "Sleeping 1 second..\n",
      "Done sleeping..\n",
      "Sleeping 1 second..\n",
      "Done sleeping..\n",
      "finished in 2.0 seconds\n"
     ]
    }
   ],
   "source": [
    "start=time.perf_counter()\n",
    "\n",
    "def do_something():\n",
    "    print('Sleeping 1 second..')\n",
    "    time.sleep(1)\n",
    "    print('Done sleeping..')\n",
    "\n",
    "do_something()\n",
    "do_something()\n",
    "\n",
    "finish=time.perf_counter()\n",
    "\n",
    "print(f\"finished in {round(finish-start,2)} seconds\")"
   ]
  },
  {
   "cell_type": "code",
   "execution_count": 5,
   "id": "8faa299f",
   "metadata": {},
   "outputs": [],
   "source": [
    "import threading"
   ]
  },
  {
   "cell_type": "code",
   "execution_count": 8,
   "id": "11cab040",
   "metadata": {},
   "outputs": [
    {
     "name": "stdout",
     "output_type": "stream",
     "text": [
      "Sleeping 1 second..\n",
      "Sleeping 1 second..\n",
      "Done sleeping..\n",
      "Done sleeping..\n",
      "finished in 1.0 seconds\n"
     ]
    }
   ],
   "source": [
    "start=time.perf_counter()\n",
    "\n",
    "def do_something():\n",
    "    print('Sleeping 1 second..')\n",
    "    time.sleep(1)\n",
    "    print('Done sleeping..')\n",
    "\n",
    "t1=threading.Thread(target=do_something)\n",
    "t2=threading.Thread(target=do_something)\n",
    "\n",
    "t1.start()\n",
    "t2.start()\n",
    "\n",
    "t1.join()\n",
    "t2.join()\n",
    "\n",
    "finish=time.perf_counter()\n",
    "\n",
    "print(f\"finished in {round(finish-start,2)} seconds\")"
   ]
  },
  {
   "cell_type": "code",
   "execution_count": 9,
   "id": "164aa622",
   "metadata": {},
   "outputs": [
    {
     "name": "stdout",
     "output_type": "stream",
     "text": [
      "Sleeping 1 second..\n",
      "Sleeping 1 second..\n",
      "Sleeping 1 second..\n",
      "Sleeping 1 second..\n",
      "Sleeping 1 second..\n",
      "Sleeping 1 second..\n",
      "Sleeping 1 second..\n",
      "Sleeping 1 second..\n",
      "Sleeping 1 second..\n",
      "Sleeping 1 second..\n",
      "Done sleeping..Done sleeping..\n",
      "Done sleeping..\n",
      "\n",
      "Done sleeping..\n",
      "Done sleeping..\n",
      "Done sleeping..\n",
      "Done sleeping..\n",
      "Done sleeping..\n",
      "Done sleeping..\n",
      "Done sleeping..\n",
      "finished in 1.0 seconds\n"
     ]
    }
   ],
   "source": [
    "start=time.perf_counter()\n",
    "\n",
    "def do_something():\n",
    "    print('Sleeping 1 second..')\n",
    "    time.sleep(1)\n",
    "    print('Done sleeping..')\n",
    "\n",
    "threads=[]\n",
    "for _ in range(10):\n",
    "    t=threading.Thread(target=do_something)\n",
    "    t.start()\n",
    "    threads.append(t)\n",
    "\n",
    "for thread in threads:\n",
    "    thread.join()\n",
    "\n",
    "\n",
    "finish=time.perf_counter()\n",
    "\n",
    "print(f\"finished in {round(finish-start,2)} seconds\")"
   ]
  },
  {
   "cell_type": "code",
   "execution_count": 10,
   "id": "9b696f22",
   "metadata": {},
   "outputs": [
    {
     "name": "stdout",
     "output_type": "stream",
     "text": [
      "Sleeping 1.5 seconds..\n",
      "Sleeping 1.5 seconds..\n",
      "Sleeping 1.5 seconds..\n",
      "Sleeping 1.5 seconds..\n",
      "Sleeping 1.5 seconds..\n",
      "Sleeping 1.5 seconds..\n",
      "Sleeping 1.5 seconds..\n",
      "Sleeping 1.5 seconds..\n",
      "Sleeping 1.5 seconds..\n",
      "Sleeping 1.5 seconds..\n",
      "Done sleeping..Done sleeping..\n",
      "Done sleeping..\n",
      "\n",
      "Done sleeping..\n",
      "Done sleeping..\n",
      "Done sleeping..\n",
      "Done sleeping..\n",
      "Done sleeping..\n",
      "Done sleeping..\n",
      "Done sleeping..\n",
      "finished in 1.5 seconds\n"
     ]
    }
   ],
   "source": [
    "start=time.perf_counter()\n",
    "\n",
    "def do_something(seconds):\n",
    "    print(f'Sleeping {seconds} seconds..')\n",
    "    time.sleep(seconds)\n",
    "    print('Done sleeping..')\n",
    "\n",
    "threads=[]\n",
    "for _ in range(10):\n",
    "    t=threading.Thread(target=do_something,args=[1.5])\n",
    "    t.start()\n",
    "    threads.append(t)\n",
    "\n",
    "for thread in threads:\n",
    "    thread.join()\n",
    "\n",
    "\n",
    "finish=time.perf_counter()\n",
    "\n",
    "print(f\"finished in {round(finish-start,2)} seconds\")"
   ]
  },
  {
   "cell_type": "code",
   "execution_count": 11,
   "id": "8d87ad77",
   "metadata": {},
   "outputs": [],
   "source": [
    "import concurrent.futures"
   ]
  },
  {
   "cell_type": "code",
   "execution_count": 12,
   "id": "05a1c179",
   "metadata": {},
   "outputs": [
    {
     "name": "stdout",
     "output_type": "stream",
     "text": [
      "Sleeping 1 seconds..\n",
      "Done sleeping..\n",
      "finished in 1.0 seconds\n"
     ]
    }
   ],
   "source": [
    "start=time.perf_counter()\n",
    "\n",
    "def do_something(seconds):\n",
    "    print(f'Sleeping {seconds} seconds..')\n",
    "    time.sleep(seconds)\n",
    "    return 'Done sleeping..'\n",
    "\n",
    "with concurrent.futures.ThreadPoolExecutor() as executor:\n",
    "    f1=executor.submit(do_something,1)\n",
    "    print(f1.result())\n",
    "\n",
    "\n",
    "finish=time.perf_counter()\n",
    "\n",
    "print(f\"finished in {round(finish-start,2)} seconds\")"
   ]
  },
  {
   "cell_type": "code",
   "execution_count": 14,
   "id": "e44e10f0",
   "metadata": {},
   "outputs": [
    {
     "name": "stdout",
     "output_type": "stream",
     "text": [
      "Sleeping 1 seconds..\n",
      "Sleeping 1 seconds..\n",
      "Sleeping 1 seconds..\n",
      "Sleeping 1 seconds..\n",
      "Sleeping 1 seconds..\n",
      "Sleeping 1 seconds..\n",
      "Sleeping 1 seconds..\n",
      "Sleeping 1 seconds..\n",
      "Sleeping 1 seconds..\n",
      "Sleeping 1 seconds..\n",
      "Done sleeping..\n",
      "Done sleeping..\n",
      "Done sleeping..\n",
      "Done sleeping..\n",
      "Done sleeping..\n",
      "Done sleeping..\n",
      "Done sleeping..\n",
      "Done sleeping..\n",
      "Done sleeping..\n",
      "Done sleeping..\n",
      "finished in 1.0 seconds\n"
     ]
    }
   ],
   "source": [
    "start=time.perf_counter()\n",
    "\n",
    "def do_something(seconds):\n",
    "    print(f'Sleeping {seconds} seconds..')\n",
    "    time.sleep(seconds)\n",
    "    return 'Done sleeping..'\n",
    "\n",
    "with concurrent.futures.ThreadPoolExecutor() as executor:\n",
    "    results=[executor.submit(do_something,1) for _ in range(10)]\n",
    "    \n",
    "    for f in concurrent.futures.as_completed(results):\n",
    "        print(f.result())\n",
    "\n",
    "\n",
    "finish=time.perf_counter()\n",
    "\n",
    "print(f\"finished in {round(finish-start,2)} seconds\")"
   ]
  },
  {
   "cell_type": "code",
   "execution_count": 15,
   "id": "5bb19733",
   "metadata": {},
   "outputs": [
    {
     "name": "stdout",
     "output_type": "stream",
     "text": [
      "Sleeping 5 seconds..\n",
      "Sleeping 4 seconds..\n",
      "Sleeping 3 seconds..\n",
      "Sleeping 2 seconds..\n",
      "Sleeping 1 seconds..\n",
      "Done sleeping..1\n",
      "Done sleeping..2\n",
      "Done sleeping..3\n",
      "Done sleeping..4\n",
      "Done sleeping..5\n",
      "finished in 5.01 seconds\n"
     ]
    }
   ],
   "source": [
    "start=time.perf_counter()\n",
    "\n",
    "def do_something(seconds):\n",
    "    print(f'Sleeping {seconds} seconds..')\n",
    "    time.sleep(seconds)\n",
    "    return f'Done sleeping..{seconds}'\n",
    "\n",
    "with concurrent.futures.ThreadPoolExecutor() as executor:\n",
    "    secs=[5,4,3,2,1]\n",
    "    results=[executor.submit(do_something,sec) for sec in secs]\n",
    "    \n",
    "    for f in concurrent.futures.as_completed(results):\n",
    "        print(f.result())\n",
    "\n",
    "\n",
    "finish=time.perf_counter()\n",
    "\n",
    "print(f\"finished in {round(finish-start,2)} seconds\")"
   ]
  },
  {
   "cell_type": "code",
   "execution_count": 17,
   "id": "669728dd",
   "metadata": {},
   "outputs": [
    {
     "name": "stdout",
     "output_type": "stream",
     "text": [
      "Sleeping 5 seconds..\n",
      "Sleeping 4 seconds..\n",
      "Sleeping 3 seconds..\n",
      "Sleeping 2 seconds..\n",
      "Sleeping 1 seconds..\n",
      "finished in 5.01 seconds\n"
     ]
    }
   ],
   "source": [
    "start=time.perf_counter()\n",
    "\n",
    "def do_something(seconds):\n",
    "    print(f'Sleeping {seconds} seconds..')\n",
    "    time.sleep(seconds)\n",
    "    return f'Done sleeping..{seconds}'\n",
    "\n",
    "with concurrent.futures.ThreadPoolExecutor() as executor:\n",
    "    secs=[5,4,3,2,1]\n",
    "    results=executor.map(do_something,secs)\n",
    "    # for result in results:\n",
    "    #     print(result)\n",
    "\n",
    "\n",
    "finish=time.perf_counter()\n",
    "\n",
    "print(f\"finished in {round(finish-start,2)} seconds\")"
   ]
  },
  {
   "cell_type": "code",
   "execution_count": 19,
   "id": "5886d9f5",
   "metadata": {},
   "outputs": [
    {
     "name": "stdout",
     "output_type": "stream",
     "text": [
      "photo-1516117172878-fd2c41f4a759.jpg was downloaded\n",
      "photo-1532009324734-20a7a5813719.jpg was downloaded\n",
      "photo-1524429656589-6633a470097c.jpg was downloaded\n",
      "photo-1530224264768-7ff8c1789d79.jpg was downloaded\n",
      "photo-1564135624576-c5c88640f235.jpg was downloaded\n",
      "photo-1541698444083-023c97d3f4b6.jpg was downloaded\n",
      "photo-1522364723953-452d3431c267.jpg was downloaded\n",
      "photo-1513938709626-033611b8cc03.jpg was downloaded\n",
      "photo-1507143550189-fed454f93097.jpg was downloaded\n",
      "photo-1493976040374-85c8e12f0c0e.jpg was downloaded\n",
      "photo-1504198453319-5ce911bafcde.jpg was downloaded\n",
      "photo-1530122037265-a5f1f91d3b99.jpg was downloaded\n",
      "photo-1516972810927-80185027ca84.jpg was downloaded\n",
      "photo-1550439062-609e1531270e.jpg was downloaded\n",
      "photo-1549692520-acc6669e2f0c.jpg was downloaded\n",
      "finished in 5.266836479999256 seconds\n"
     ]
    }
   ],
   "source": [
    "img_urls = [\n",
    "    'https://images.unsplash.com/photo-1516117172878-fd2c41f4a759',\n",
    "    'https://images.unsplash.com/photo-1532009324734-20a7a5813719',\n",
    "    'https://images.unsplash.com/photo-1524429656589-6633a470097c',\n",
    "    'https://images.unsplash.com/photo-1530224264768-7ff8c1789d79',\n",
    "    'https://images.unsplash.com/photo-1564135624576-c5c88640f235',\n",
    "    'https://images.unsplash.com/photo-1541698444083-023c97d3f4b6',\n",
    "    'https://images.unsplash.com/photo-1522364723953-452d3431c267',\n",
    "    'https://images.unsplash.com/photo-1513938709626-033611b8cc03',\n",
    "    'https://images.unsplash.com/photo-1507143550189-fed454f93097',\n",
    "    'https://images.unsplash.com/photo-1493976040374-85c8e12f0c0e',\n",
    "    'https://images.unsplash.com/photo-1504198453319-5ce911bafcde',\n",
    "    'https://images.unsplash.com/photo-1530122037265-a5f1f91d3b99',\n",
    "    'https://images.unsplash.com/photo-1516972810927-80185027ca84',\n",
    "    'https://images.unsplash.com/photo-1550439062-609e1531270e',\n",
    "    'https://images.unsplash.com/photo-1549692520-acc6669e2f0c'\n",
    "]\n",
    "\n",
    "t1 = time.perf_counter()\n",
    "\n",
    "for img_url in img_urls:\n",
    "    img_bytes=requests.get(img_url).content\n",
    "    img_name=img_url.split('/')[3]\n",
    "    img_name=f'{img_name}.jpg'\n",
    "    with open(img_name,'wb') as img_file:\n",
    "        img_file.write(img_bytes)\n",
    "        print(f'{img_name} was downloaded')\n",
    "\n",
    "\n",
    "t2=time.perf_counter()\n",
    "print(f'finished in {t2-t1} seconds')"
   ]
  },
  {
   "cell_type": "code",
   "execution_count": 20,
   "id": "239b466d",
   "metadata": {},
   "outputs": [
    {
     "name": "stdout",
     "output_type": "stream",
     "text": [
      "photo-1513938709626-033611b8cc03.jpg was downloaded...\n",
      "photo-1507143550189-fed454f93097.jpg was downloaded...\n",
      "photo-1516117172878-fd2c41f4a759.jpg was downloaded...\n",
      "photo-1522364723953-452d3431c267.jpg was downloaded...\n",
      "photo-1504198453319-5ce911bafcde.jpg was downloaded...\n",
      "photo-1516972810927-80185027ca84.jpg was downloaded...\n",
      "photo-1550439062-609e1531270e.jpg was downloaded...\n",
      "photo-1541698444083-023c97d3f4b6.jpg was downloaded...\n",
      "photo-1549692520-acc6669e2f0c.jpg was downloaded...\n",
      "photo-1532009324734-20a7a5813719.jpg was downloaded...\n",
      "photo-1524429656589-6633a470097c.jpg was downloaded...\n",
      "photo-1530122037265-a5f1f91d3b99.jpg was downloaded...\n",
      "photo-1564135624576-c5c88640f235.jpg was downloaded...\n",
      "photo-1530224264768-7ff8c1789d79.jpg was downloaded...\n",
      "photo-1493976040374-85c8e12f0c0e.jpg was downloaded...\n",
      "Finished in 1.7704871370006003 seconds\n"
     ]
    }
   ],
   "source": [
    "img_urls = [\n",
    "    'https://images.unsplash.com/photo-1516117172878-fd2c41f4a759',\n",
    "    'https://images.unsplash.com/photo-1532009324734-20a7a5813719',\n",
    "    'https://images.unsplash.com/photo-1524429656589-6633a470097c',\n",
    "    'https://images.unsplash.com/photo-1530224264768-7ff8c1789d79',\n",
    "    'https://images.unsplash.com/photo-1564135624576-c5c88640f235',\n",
    "    'https://images.unsplash.com/photo-1541698444083-023c97d3f4b6',\n",
    "    'https://images.unsplash.com/photo-1522364723953-452d3431c267',\n",
    "    'https://images.unsplash.com/photo-1513938709626-033611b8cc03',\n",
    "    'https://images.unsplash.com/photo-1507143550189-fed454f93097',\n",
    "    'https://images.unsplash.com/photo-1493976040374-85c8e12f0c0e',\n",
    "    'https://images.unsplash.com/photo-1504198453319-5ce911bafcde',\n",
    "    'https://images.unsplash.com/photo-1530122037265-a5f1f91d3b99',\n",
    "    'https://images.unsplash.com/photo-1516972810927-80185027ca84',\n",
    "    'https://images.unsplash.com/photo-1550439062-609e1531270e',\n",
    "    'https://images.unsplash.com/photo-1549692520-acc6669e2f0c'\n",
    "]\n",
    "\n",
    "t1 = time.perf_counter()\n",
    "\n",
    "\n",
    "def download_image(img_url):\n",
    "    img_bytes = requests.get(img_url).content\n",
    "    img_name = img_url.split('/')[3]\n",
    "    img_name = f'{img_name}.jpg'\n",
    "    with open(img_name, 'wb') as img_file:\n",
    "        img_file.write(img_bytes)\n",
    "        print(f'{img_name} was downloaded...')\n",
    "\n",
    "\n",
    "with concurrent.futures.ThreadPoolExecutor() as executor:\n",
    "    executor.map(download_image, img_urls)\n",
    "\n",
    "\n",
    "t2 = time.perf_counter()\n",
    "\n",
    "print(f'Finished in {t2-t1} seconds')"
   ]
  },
  {
   "cell_type": "code",
   "execution_count": null,
   "id": "3162e6b8",
   "metadata": {},
   "outputs": [],
   "source": []
  }
 ],
 "metadata": {
  "kernelspec": {
   "display_name": "venv",
   "language": "python",
   "name": "python3"
  },
  "language_info": {
   "codemirror_mode": {
    "name": "ipython",
    "version": 3
   },
   "file_extension": ".py",
   "mimetype": "text/x-python",
   "name": "python",
   "nbconvert_exporter": "python",
   "pygments_lexer": "ipython3",
   "version": "3.10.12"
  }
 },
 "nbformat": 4,
 "nbformat_minor": 5
}
