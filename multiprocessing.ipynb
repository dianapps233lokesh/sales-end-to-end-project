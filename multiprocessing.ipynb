{
 "cells": [
  {
   "cell_type": "code",
   "execution_count": 2,
   "id": "f6a3a00a",
   "metadata": {},
   "outputs": [],
   "source": [
    "import requests\n",
    "\n",
    "import time"
   ]
  },
  {
   "cell_type": "code",
   "execution_count": 4,
   "id": "febf1770",
   "metadata": {},
   "outputs": [
    {
     "name": "stdout",
     "output_type": "stream",
     "text": [
      "Sleeping 1 second..\n",
      "Done sleeping..\n",
      "Sleeping 1 second..\n",
      "Done sleeping..\n",
      "finished in 2.0 seconds\n"
     ]
    }
   ],
   "source": [
    "start=time.perf_counter()\n",
    "\n",
    "def do_something():\n",
    "    print('Sleeping 1 second..')\n",
    "    time.sleep(1)\n",
    "    print('Done sleeping..')\n",
    "\n",
    "do_something()\n",
    "do_something()\n",
    "\n",
    "finish=time.perf_counter()\n",
    "\n",
    "print(f\"finished in {round(finish-start,2)} seconds\")"
   ]
  },
  {
   "cell_type": "code",
   "execution_count": 5,
   "id": "30c3acc7",
   "metadata": {},
   "outputs": [],
   "source": [
    "import multiprocessing"
   ]
  },
  {
   "cell_type": "code",
   "execution_count": 11,
   "id": "f042fe34",
   "metadata": {},
   "outputs": [
    {
     "name": "stdout",
     "output_type": "stream",
     "text": [
      "Sleeping 1 second..\n",
      "Sleeping 1 second..\n"
     ]
    },
    {
     "name": "stdout",
     "output_type": "stream",
     "text": [
      "Done sleeping..\n",
      "Done sleeping..\n",
      "finished in 1.02 seconds\n"
     ]
    }
   ],
   "source": [
    "start=time.perf_counter()\n",
    "\n",
    "def do_something():\n",
    "    print('Sleeping 1 second..')\n",
    "    time.sleep(1)\n",
    "    print('Done sleeping..')\n",
    "\n",
    "p1=multiprocessing.Process(target=do_something)\n",
    "p2=multiprocessing.Process(target=do_something)\n",
    "\n",
    "p1.start()\n",
    "p2.start()\n",
    "\n",
    "p1.join()\n",
    "p2.join()\n",
    "\n",
    "finish=time.perf_counter()\n",
    "\n",
    "print(f\"finished in {round(finish-start,2)} seconds\")"
   ]
  },
  {
   "cell_type": "code",
   "execution_count": 12,
   "id": "412136cf",
   "metadata": {},
   "outputs": [
    {
     "name": "stdout",
     "output_type": "stream",
     "text": [
      "Sleeping 1 second..\n",
      "Sleeping 1 second..\n",
      "Sleeping 1 second..\n",
      "Sleeping 1 second..\n",
      "Sleeping 1 second..\n",
      "Sleeping 1 second..\n",
      "Sleeping 1 second..\n",
      "Sleeping 1 second..\n",
      "\n",
      "Sleeping 1 second..Sleeping 1 second..\n",
      "Done sleeping..\n",
      "Done sleeping..\n",
      "Done sleeping..\n",
      "Done sleeping..\n",
      "Done sleeping..\n",
      "Done sleeping..\n",
      "Done sleeping..\n",
      "Done sleeping..\n",
      "Done sleeping..\n",
      "Done sleeping..\n",
      "finished in 1.05 seconds\n"
     ]
    }
   ],
   "source": [
    "start=time.perf_counter()\n",
    "\n",
    "def do_something():\n",
    "    print('Sleeping 1 second..')\n",
    "    time.sleep(1)\n",
    "    print('Done sleeping..')\n",
    "processes=[]\n",
    "for _ in range(10):\n",
    "    p=multiprocessing.Process(target=do_something)\n",
    "    p.start()\n",
    "    processes.append(p)\n",
    "\n",
    "for process in processes:\n",
    "    process.join()\n",
    "    \n",
    "\n",
    "finish=time.perf_counter()\n",
    "\n",
    "print(f\"finished in {round(finish-start,2)} seconds\")"
   ]
  },
  {
   "cell_type": "code",
   "execution_count": 13,
   "id": "a1b589a7",
   "metadata": {},
   "outputs": [
    {
     "name": "stdout",
     "output_type": "stream",
     "text": [
      "Sleeping 1.5 seconds..\n",
      "Sleeping 1.5 seconds..\n",
      "Sleeping 1.5 seconds..\n",
      "Sleeping 1.5 seconds..\n",
      "Sleeping 1.5 seconds..\n",
      "\n",
      "Sleeping 1.5 seconds..Sleeping 1.5 seconds..\n",
      "Sleeping 1.5 seconds..\n",
      "Sleeping 1.5 seconds..\n",
      "Sleeping 1.5 seconds..\n",
      "Done sleeping..\n",
      "Done sleeping..\n",
      "Done sleeping..\n",
      "Done sleeping..\n",
      "Done sleeping..\n",
      "Done sleeping..\n",
      "Done sleeping..\n",
      "Done sleeping..\n",
      "Done sleeping..\n",
      "Done sleeping..\n",
      "finished in 1.56 seconds\n"
     ]
    }
   ],
   "source": [
    "start=time.perf_counter()\n",
    "\n",
    "def do_something(seconds):\n",
    "    print(f'Sleeping {seconds} seconds..')\n",
    "    time.sleep(seconds)\n",
    "    print('Done sleeping..')\n",
    "\n",
    "processes=[]\n",
    "\n",
    "for _ in range(10):\n",
    "    p=multiprocessing.Process(target=do_something,args=[1.5])\n",
    "    p.start()\n",
    "    processes.append(p)\n",
    "\n",
    "for process in processes:\n",
    "    process.join()\n",
    "    \n",
    "\n",
    "finish=time.perf_counter()\n",
    "\n",
    "print(f\"finished in {round(finish-start,2)} seconds\")"
   ]
  },
  {
   "cell_type": "code",
   "execution_count": 14,
   "id": "881ddf96",
   "metadata": {},
   "outputs": [],
   "source": [
    "import concurrent.futures"
   ]
  },
  {
   "cell_type": "code",
   "execution_count": 15,
   "id": "8e731a70",
   "metadata": {},
   "outputs": [
    {
     "name": "stdout",
     "output_type": "stream",
     "text": [
      "Sleeping 1 seconds..\n",
      "Done sleeping..\n",
      "finished in 1.07 seconds\n"
     ]
    }
   ],
   "source": [
    "start=time.perf_counter()\n",
    "\n",
    "def do_something(seconds):\n",
    "    print(f'Sleeping {seconds} seconds..')\n",
    "    time.sleep(seconds)\n",
    "    return 'Done sleeping..'\n",
    "\n",
    "with concurrent.futures.ProcessPoolExecutor() as executor:\n",
    "    f1=executor.submit(do_something,1)\n",
    "    print(f1.result())\n",
    "\n",
    "# processes=[]\n",
    "\n",
    "# for _ in range(10):\n",
    "#     p=multiprocessing.Process(target=do_something,args=[1.5])\n",
    "#     p.start()\n",
    "#     processes.append(p)\n",
    "\n",
    "# for process in processes:\n",
    "#     process.join()\n",
    "    \n",
    "\n",
    "finish=time.perf_counter()\n",
    "\n",
    "print(f\"finished in {round(finish-start,2)} seconds\")"
   ]
  },
  {
   "cell_type": "code",
   "execution_count": 16,
   "id": "9993dc1c",
   "metadata": {},
   "outputs": [
    {
     "name": "stdout",
     "output_type": "stream",
     "text": [
      "Sleeping 1 seconds..Sleeping 1 seconds..\n",
      "\n",
      "Done sleeping..\n",
      "Done sleeping..\n",
      "finished in 1.04 seconds\n"
     ]
    }
   ],
   "source": [
    "start=time.perf_counter()\n",
    "\n",
    "def do_something(seconds):\n",
    "    print(f'Sleeping {seconds} seconds..')\n",
    "    time.sleep(seconds)\n",
    "    return 'Done sleeping..'\n",
    "\n",
    "with concurrent.futures.ProcessPoolExecutor() as executor:\n",
    "    f1=executor.submit(do_something,1)\n",
    "    f2=executor.submit(do_something,1)\n",
    "    print(f1.result())\n",
    "    print(f2.result())\n",
    "\n",
    "# processes=[]\n",
    "\n",
    "# for _ in range(10):\n",
    "#     p=multiprocessing.Process(target=do_something,args=[1.5])\n",
    "#     p.start()\n",
    "#     processes.append(p)\n",
    "\n",
    "# for process in processes:\n",
    "#     process.join()\n",
    "    \n",
    "\n",
    "finish=time.perf_counter()\n",
    "\n",
    "print(f\"finished in {round(finish-start,2)} seconds\")"
   ]
  },
  {
   "cell_type": "code",
   "execution_count": 17,
   "id": "5be86964",
   "metadata": {},
   "outputs": [
    {
     "name": "stdout",
     "output_type": "stream",
     "text": [
      "Sleeping 1 seconds..Sleeping 1 seconds..Sleeping 1 seconds..Sleeping 1 seconds..Sleeping 1 seconds..Sleeping 1 seconds..\n",
      "Sleeping 1 seconds..\n",
      "\n",
      "\n",
      "Sleeping 1 seconds..\n",
      "\n",
      "\n",
      "\n",
      "Sleeping 1 seconds..\n",
      "Sleeping 1 seconds..\n",
      "Done sleeping..\n",
      "Done sleeping..\n",
      "Done sleeping..\n",
      "Done sleeping..\n",
      "Done sleeping..\n",
      "Done sleeping..\n",
      "Done sleeping..\n",
      "Done sleeping..\n",
      "Done sleeping..\n",
      "Done sleeping..\n",
      "finished in 2.05 seconds\n"
     ]
    }
   ],
   "source": [
    "start=time.perf_counter()\n",
    "\n",
    "def do_something(seconds):\n",
    "    print(f'Sleeping {seconds} seconds..')\n",
    "    time.sleep(seconds)\n",
    "    return 'Done sleeping..'\n",
    "\n",
    "with concurrent.futures.ProcessPoolExecutor() as executor:\n",
    "    results=[executor.submit(do_something,1) for _ in range(10)]\n",
    "\n",
    "    for f in concurrent.futures.as_completed(results):\n",
    "        print(f.result())\n",
    "# processes=[]\n",
    "\n",
    "# for _ in range(10):\n",
    "#     p=multiprocessing.Process(target=do_something,args=[1.5])\n",
    "#     p.start()\n",
    "#     processes.append(p)\n",
    "\n",
    "# for process in processes:\n",
    "#     process.join()\n",
    "    \n",
    "\n",
    "finish=time.perf_counter()\n",
    "\n",
    "print(f\"finished in {round(finish-start,2)} seconds\")"
   ]
  },
  {
   "cell_type": "code",
   "execution_count": 19,
   "id": "a3806818",
   "metadata": {},
   "outputs": [
    {
     "name": "stdout",
     "output_type": "stream",
     "text": [
      "Sleeping 3 seconds..Sleeping 5 seconds..Sleeping 4 seconds..Sleeping 1 seconds..Sleeping 2 seconds..\n",
      "\n",
      "\n",
      "\n",
      "\n"
     ]
    },
    {
     "name": "stdout",
     "output_type": "stream",
     "text": [
      "Done sleeping..1\n",
      "Done sleeping..2\n",
      "Done sleeping..3\n",
      "Done sleeping..4\n",
      "Done sleeping..5\n",
      "finished in 5.04 seconds\n"
     ]
    }
   ],
   "source": [
    "start=time.perf_counter()\n",
    "\n",
    "def do_something(seconds):\n",
    "    print(f'Sleeping {seconds} seconds..')\n",
    "    time.sleep(seconds)\n",
    "    return f'Done sleeping..{seconds}'\n",
    "\n",
    "with concurrent.futures.ProcessPoolExecutor() as executor:\n",
    "    secs=[5,4,3,2,1]\n",
    "    results=[executor.submit(do_something,sec) for sec in secs]\n",
    "\n",
    "    for f in concurrent.futures.as_completed(results):\n",
    "        print(f.result())\n",
    "# processes=[]\n",
    "\n",
    "# for _ in range(10):\n",
    "#     p=multiprocessing.Process(target=do_something,args=[1.5])\n",
    "#     p.start()\n",
    "#     processes.append(p)\n",
    "\n",
    "# for process in processes:\n",
    "#     process.join()\n",
    "    \n",
    "\n",
    "finish=time.perf_counter()\n",
    "\n",
    "print(f\"finished in {round(finish-start,2)} seconds\")"
   ]
  },
  {
   "cell_type": "code",
   "execution_count": 22,
   "id": "eda4e212",
   "metadata": {},
   "outputs": [
    {
     "name": "stdout",
     "output_type": "stream",
     "text": [
      "Sleeping 5 seconds..Sleeping 2 seconds..Sleeping 4 seconds..Sleeping 3 seconds..Sleeping 1 seconds..\n",
      "\n",
      "\n",
      "\n",
      "\n",
      "finished in 5.04 seconds\n"
     ]
    }
   ],
   "source": [
    "start=time.perf_counter()\n",
    "\n",
    "def do_something(seconds):\n",
    "    print(f'Sleeping {seconds} seconds..')\n",
    "    time.sleep(seconds)\n",
    "    return f'Done sleeping..{seconds}'\n",
    "\n",
    "with concurrent.futures.ProcessPoolExecutor() as executor:\n",
    "    secs=[5,4,3,2,1]\n",
    "    results=executor.map(do_something,secs)\n",
    "\n",
    "    # for result in results:\n",
    "    #     print(result)\n",
    "\n",
    "    \n",
    "\n",
    "finish=time.perf_counter()\n",
    "\n",
    "print(f\"finished in {round(finish-start,2)} seconds\")"
   ]
  },
  {
   "cell_type": "code",
   "execution_count": 23,
   "id": "1cbfaa8d",
   "metadata": {},
   "outputs": [],
   "source": [
    "from PIL import Image,ImageFilter"
   ]
  },
  {
   "cell_type": "code",
   "execution_count": 27,
   "id": "19e10cd0",
   "metadata": {},
   "outputs": [
    {
     "name": "stdout",
     "output_type": "stream",
     "text": [
      "photo-1516117172878-fd2c41f4a759.jpg was processed...\n",
      "photo-1532009324734-20a7a5813719.jpg was processed...\n",
      "photo-1524429656589-6633a470097c.jpg was processed...\n",
      "photo-1530224264768-7ff8c1789d79.jpg was processed...\n",
      "photo-1564135624576-c5c88640f235.jpg was processed...\n",
      "photo-1541698444083-023c97d3f4b6.jpg was processed...\n",
      "photo-1522364723953-452d3431c267.jpg was processed...\n"
     ]
    },
    {
     "ename": "UnidentifiedImageError",
     "evalue": "cannot identify image file 'photo-1507143550189-fed454f93097.jpg'",
     "output_type": "error",
     "traceback": [
      "\u001b[0;31m---------------------------------------------------------------------------\u001b[0m",
      "\u001b[0;31mUnidentifiedImageError\u001b[0m                    Traceback (most recent call last)",
      "Cell \u001b[0;32mIn[27], line 23\u001b[0m\n\u001b[1;32m     20\u001b[0m size\u001b[38;5;241m=\u001b[39m(\u001b[38;5;241m1200\u001b[39m,\u001b[38;5;241m1200\u001b[39m)\n\u001b[1;32m     22\u001b[0m \u001b[38;5;28;01mfor\u001b[39;00m img_name \u001b[38;5;129;01min\u001b[39;00m img_names:\n\u001b[0;32m---> 23\u001b[0m     img \u001b[38;5;241m=\u001b[39m \u001b[43mImage\u001b[49m\u001b[38;5;241;43m.\u001b[39;49m\u001b[43mopen\u001b[49m\u001b[43m(\u001b[49m\u001b[43mimg_name\u001b[49m\u001b[43m)\u001b[49m\n\u001b[1;32m     25\u001b[0m     img \u001b[38;5;241m=\u001b[39m img\u001b[38;5;241m.\u001b[39mfilter(ImageFilter\u001b[38;5;241m.\u001b[39mGaussianBlur(\u001b[38;5;241m15\u001b[39m))\n\u001b[1;32m     27\u001b[0m     img\u001b[38;5;241m.\u001b[39mthumbnail(size)\n",
      "File \u001b[0;32m~/Desktop/end_to_end_projects/sales/sales/venv/lib/python3.10/site-packages/PIL/Image.py:3580\u001b[0m, in \u001b[0;36mopen\u001b[0;34m(fp, mode, formats)\u001b[0m\n\u001b[1;32m   3578\u001b[0m     warnings\u001b[38;5;241m.\u001b[39mwarn(message)\n\u001b[1;32m   3579\u001b[0m msg \u001b[38;5;241m=\u001b[39m \u001b[38;5;124m\"\u001b[39m\u001b[38;5;124mcannot identify image file \u001b[39m\u001b[38;5;132;01m%r\u001b[39;00m\u001b[38;5;124m\"\u001b[39m \u001b[38;5;241m%\u001b[39m (filename \u001b[38;5;28;01mif\u001b[39;00m filename \u001b[38;5;28;01melse\u001b[39;00m fp)\n\u001b[0;32m-> 3580\u001b[0m \u001b[38;5;28;01mraise\u001b[39;00m UnidentifiedImageError(msg)\n",
      "\u001b[0;31mUnidentifiedImageError\u001b[0m: cannot identify image file 'photo-1507143550189-fed454f93097.jpg'"
     ]
    }
   ],
   "source": [
    "img_names = [\n",
    "    'photo-1516117172878-fd2c41f4a759.jpg',\n",
    "    'photo-1532009324734-20a7a5813719.jpg',\n",
    "    'photo-1524429656589-6633a470097c.jpg',\n",
    "    'photo-1530224264768-7ff8c1789d79.jpg',\n",
    "    'photo-1564135624576-c5c88640f235.jpg',\n",
    "    'photo-1541698444083-023c97d3f4b6.jpg',\n",
    "    'photo-1522364723953-452d3431c267.jpg',\n",
    "    # 'photo-1513938709626-033611b8cc03.jpg',\n",
    "    'photo-1507143550189-fed454f93097.jpg',\n",
    "    'photo-1493976040374-85c8e12f0c0e.jpg',\n",
    "    'photo-1504198453319-5ce911bafcde.jpg',\n",
    "    'photo-1530122037265-a5f1f91d3b99.jpg',\n",
    "    'photo-1516972810927-80185027ca84.jpg',\n",
    "    'photo-1550439062-609e1531270e.jpg',\n",
    "    'photo-1549692520-acc6669e2f0c.jpg'\n",
    "]\n",
    "\n",
    "t1 = time.perf_counter()\n",
    "size=(1200,1200)\n",
    "\n",
    "for img_name in img_names:\n",
    "    img = Image.open(img_name)\n",
    "\n",
    "    img = img.filter(ImageFilter.GaussianBlur(15))\n",
    "\n",
    "    img.thumbnail(size)\n",
    "    img.save(f'processed/{img_name}')\n",
    "    print(f'{img_name} was processed...')\n",
    "\n",
    "\n",
    "t2=time.perf_counter()\n",
    "print(f'finished in {t2-t1} seconds')"
   ]
  },
  {
   "cell_type": "code",
   "execution_count": null,
   "id": "af13f122",
   "metadata": {},
   "outputs": [],
   "source": []
  }
 ],
 "metadata": {
  "kernelspec": {
   "display_name": "venv",
   "language": "python",
   "name": "python3"
  },
  "language_info": {
   "codemirror_mode": {
    "name": "ipython",
    "version": 3
   },
   "file_extension": ".py",
   "mimetype": "text/x-python",
   "name": "python",
   "nbconvert_exporter": "python",
   "pygments_lexer": "ipython3",
   "version": "3.10.12"
  }
 },
 "nbformat": 4,
 "nbformat_minor": 5
}
